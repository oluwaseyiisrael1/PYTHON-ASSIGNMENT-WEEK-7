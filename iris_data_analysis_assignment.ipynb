{
 "cells": [
  {
   "cell_type": "code",
   "execution_count": null,
   "id": "cfc25ef6",
   "metadata": {},
   "outputs": [],
   "source": []
  },
  {
   "cell_type": "markdown",
   "id": "94481c96",
   "metadata": {},
   "source": [
    "# Iris Dataset Analysis Assignment\n"
   ]
  },
  {
   "cell_type": "markdown",
   "id": "66635e30",
   "metadata": {},
   "source": [
    "## Task 1: Load and Explore the Dataset\n",
    "- Load the dataset using pandas.\n",
    "- Display the first few rows using `.head()`.\n",
    "- Check data types and missing values.\n",
    "- Clean the dataset by filling or dropping missing values."
   ]
  },
  {
   "cell_type": "code",
   "execution_count": null,
   "id": "a9fded5a",
   "metadata": {},
   "outputs": [],
   "source": [
    "import pandas as pd\n",
    "import seaborn as sns\n",
    "import matplotlib.pyplot as plt\n",
    "from sklearn.datasets import load_iris\n",
    "\n",
    "# Load iris dataset\n",
    "iris = load_iris()\n",
    "df = pd.DataFrame(data=iris.data, columns=iris.feature_names)\n",
    "df['species'] = iris.target_names[iris.target]\n",
    "\n",
    "# Display first few rows\n",
    "print(df.head())\n",
    "\n",
    "# Check data types and missing values\n",
    "print(df.info())\n",
    "print(df.isnull().sum())\n"
   ]
  },
  {
   "cell_type": "markdown",
   "id": "7e9ee18c",
   "metadata": {},
   "source": [
    "## Task 2: Basic Data Analysis\n",
    "- Compute basic statistics (mean, median, std) using `.describe()`.\n",
    "- Group by species and compute mean for each group.\n",
    "- Identify interesting patterns or findings."
   ]
  },
  {
   "cell_type": "code",
   "execution_count": null,
   "id": "a5baf3ca",
   "metadata": {},
   "outputs": [],
   "source": [
    "# Task 2: Basic Data Analysis\n",
    "\n",
    "# Basic statistics\n",
    "print(\"Basic Statistics:\")\n",
    "print(df.describe())\n",
    "\n",
    "# Grouping by species and computing mean\n",
    "print(\"\\nMean values grouped by species:\")\n",
    "print(df.groupby('species').mean())\n",
    "\n",
    "# Optional: You can add a median too\n",
    "print(\"\\nMedian values grouped by species:\")\n",
    "print(df.groupby('species').median())\n"
   ]
  },
  {
   "cell_type": "markdown",
   "id": "5f87d5ef",
   "metadata": {},
   "source": [
    "## Task 3: Data Visualization\n",
    "- Line chart: trends over time (if applicable).\n",
    "- Bar chart: compare average petal length per species.\n",
    "- Histogram: visualize distribution of a numerical column.\n",
    "- Scatter plot: show relationship between two numerical columns."
   ]
  },
  {
   "cell_type": "code",
   "execution_count": null,
   "id": "09a3182e",
   "metadata": {},
   "outputs": [],
   "source": [
    "# Task 3: Data Visualization\n",
    "\n",
    "# Set a seaborn theme\n",
    "sns.set(style=\"whitegrid\")\n",
    "\n",
    "# 1. Line chart – fake a time column to simulate trend over time\n",
    "df['index'] = df.index  # simulate time with index\n",
    "plt.figure(figsize=(10, 5))\n",
    "sns.lineplot(x='index', y='sepal length (cm)', data=df)\n",
    "plt.title('Simulated Trend of Sepal Length Over Index')\n",
    "plt.xlabel('Index')\n",
    "plt.ylabel('Sepal Length (cm)')\n",
    "plt.show()\n",
    "\n",
    "# 2. Bar chart – Average petal length per species\n",
    "plt.figure(figsize=(8, 5))\n",
    "sns.barplot(x='species', y='petal length (cm)', data=df)\n",
    "plt.title('Average Petal Length per Species')\n",
    "plt.xlabel('Species')\n",
    "plt.ylabel('Petal Length (cm)')\n",
    "plt.show()\n",
    "\n",
    "# 3. Histogram – Distribution of Sepal Width\n",
    "plt.figure(figsize=(8, 5))\n",
    "sns.histplot(df['sepal width (cm)'], bins=15, kde=True)\n",
    "plt.title('Distribution of Sepal Width')\n",
    "plt.xlabel('Sepal Width (cm)')\n",
    "plt.ylabel('Frequency')\n",
    "plt.show()\n",
    "\n",
    "# 4. Scatter plot – Sepal Length vs Petal Length\n",
    "plt.figure(figsize=(8, 5))\n",
    "sns.scatterplot(x='sepal length (cm)', y='petal length (cm)', hue='species', data=df)\n",
    "plt.title('Sepal Length vs Petal Length by Species')\n",
    "plt.xlabel('Sepal Length (cm)')\n",
    "plt.ylabel('Petal Length (cm)')\n",
    "plt.legend(title='Species')\n",
    "plt.show()\n"
   ]
  },
  {
   "cell_type": "markdown",
   "id": "657b4659",
   "metadata": {},
   "source": [
    "## Findings and Conclusion\n",
    "- Summarize insights from your analysis and visualizations.\n",
    "- Mention any important patterns or observations."
   ]
  },
  {
   "cell_type": "markdown",
   "id": "e0a66ec5",
   "metadata": {},
   "source": [
    "## Error Handling (if applicable)\n",
    "- Show how you handled missing files or bad data using `try-except`."
   ]
  },
  {
   "cell_type": "code",
   "execution_count": null,
   "id": "a830eab0",
   "metadata": {},
   "outputs": [],
   "source": [
    "try:\n",
    "    # Example of trying to load from a CSV (commented because we're using sklearn)\n",
    "    # df = pd.read_csv('iris.csv')\n",
    "    print(\"Dataset loaded successfully.\")\n",
    "except FileNotFoundError:\n",
    "    print(\"Error: File not found.\")\n",
    "except Exception as e:\n",
    "    print(f\"An unexpected error occurred: {e}\")\n"
   ]
  },
  {
   "cell_type": "markdown",
   "id": "d9001bfb",
   "metadata": {},
   "source": []
  },
  {
   "cell_type": "markdown",
   "id": "d7bbe5e0",
   "metadata": {},
   "source": []
  }
 ],
 "metadata": {
  "language_info": {
   "name": "python"
  }
 },
 "nbformat": 4,
 "nbformat_minor": 5
}
